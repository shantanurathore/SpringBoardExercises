{
 "cells": [
  {
   "cell_type": "markdown",
   "metadata": {},
   "source": [
    "# What is the True Normal Human Body Temperature? \n",
    "\n",
    "#### Background\n",
    "\n",
    "The mean normal body temperature was held to be 37$^{\\circ}$C or 98.6$^{\\circ}$F for more than 120 years since it was first conceptualized and reported by Carl Wunderlich in a famous 1868 book. But, is this value statistically correct?"
   ]
  },
  {
   "cell_type": "markdown",
   "metadata": {},
   "source": [
    "<h3>Exercises</h3>\n",
    "\n",
    "<p>In this exercise, you will analyze a dataset of human body temperatures and employ the concepts of hypothesis testing, confidence intervals, and statistical significance.</p>\n",
    "\n",
    "<p>Answer the following questions <b>in this notebook below and submit to your Github account</b>.</p> \n",
    "\n",
    "<ol>\n",
    "<li>  Is the distribution of body temperatures normal? \n",
    "    <ul>\n",
    "    <li> Although this is not a requirement for the Central Limit Theorem to hold (read the introduction on Wikipedia's page about the CLT carefully: https://en.wikipedia.org/wiki/Central_limit_theorem), it gives us some peace of mind that the population may also be normally distributed if we assume that this sample is representative of the population.\n",
    "    <li> Think about the way you're going to check for the normality of the distribution. Graphical methods are usually used first, but there are also other ways: https://en.wikipedia.org/wiki/Normality_test\n",
    "    </ul>\n",
    "<li>  Is the sample size large? Are the observations independent?\n",
    "    <ul>\n",
    "    <li> Remember that this is a condition for the Central Limit Theorem, and hence the statistical tests we are using, to apply.\n",
    "    </ul>\n",
    "<li>  Is the true population mean really 98.6 degrees F?\n",
    "    <ul>\n",
    "    <li> First, try a bootstrap hypothesis test.\n",
    "    <li> Now, let's try frequentist statistical testing. Would you use a one-sample or two-sample test? Why?\n",
    "    <li> In this situation, is it appropriate to use the $t$ or $z$ statistic? \n",
    "    <li> Now try using the other test. How is the result be different? Why?\n",
    "    </ul>\n",
    "<li>  Draw a small sample of size 10 from the data and repeat both frequentist tests. \n",
    "    <ul>\n",
    "    <li> Which one is the correct one to use? \n",
    "    <li> What do you notice? What does this tell you about the difference in application of the $t$ and $z$ statistic?\n",
    "    </ul>\n",
    "<li>  At what temperature should we consider someone's temperature to be \"abnormal\"?\n",
    "    <ul>\n",
    "    <li> As in the previous example, try calculating everything using the boostrap approach, as well as the frequentist approach.\n",
    "    <li> Start by computing the margin of error and confidence interval. When calculating the confidence interval, keep in mind that you should use the appropriate formula for one draw, and not N draws.\n",
    "    </ul>\n",
    "<li>  Is there a significant difference between males and females in normal temperature?\n",
    "    <ul>\n",
    "    <li> What testing approach did you use and why?\n",
    "    <li> Write a story with your conclusion in the context of the original problem.\n",
    "    </ul>\n",
    "</ol>\n",
    "\n",
    "You can include written notes in notebook cells using Markdown: \n",
    "   - In the control panel at the top, choose Cell > Cell Type > Markdown\n",
    "   - Markdown syntax: http://nestacms.com/docs/creating-content/markdown-cheat-sheet\n",
    "\n",
    "#### Resources\n",
    "\n",
    "+ Information and data sources: http://www.amstat.org/publications/jse/datasets/normtemp.txt, http://www.amstat.org/publications/jse/jse_data_archive.htm\n",
    "+ Markdown syntax: http://nestacms.com/docs/creating-content/markdown-cheat-sheet\n",
    "\n",
    "****"
   ]
  },
  {
   "cell_type": "code",
   "execution_count": 1,
   "metadata": {},
   "outputs": [],
   "source": [
    "import pandas as pd\n",
    "df = pd.read_csv('data/human_body_temperature.csv')"
   ]
  },
  {
   "cell_type": "code",
   "execution_count": 2,
   "metadata": {},
   "outputs": [
    {
     "data": {
      "text/plain": [
       "temperature    float64\n",
       "gender          object\n",
       "heart_rate     float64\n",
       "dtype: object"
      ]
     },
     "execution_count": 2,
     "metadata": {},
     "output_type": "execute_result"
    }
   ],
   "source": [
    "# Your work here.\n",
    "df.columns\n",
    "df.dtypes"
   ]
  },
  {
   "cell_type": "code",
   "execution_count": 19,
   "metadata": {},
   "outputs": [],
   "source": [
    "from matplotlib import pyplot\n",
    "from scipy import stats\n",
    "from scipy.stats import shapiro\n",
    "from scipy.stats import ttest_1samp\n",
    "from statsmodels.stats.weightstats import ztest\n",
    "import matplotlib.pyplot as plt\n",
    "import numpy as np"
   ]
  },
  {
   "cell_type": "markdown",
   "metadata": {},
   "source": [
    "<b> 1. Checking for normality of data </b>"
   ]
  },
  {
   "cell_type": "code",
   "execution_count": 4,
   "metadata": {},
   "outputs": [
    {
     "data": {
      "text/plain": [
       "(array([ 4.,  6., 15., 26., 30., 30., 15.,  1.,  2.,  1.]),\n",
       " array([ 96.3 ,  96.75,  97.2 ,  97.65,  98.1 ,  98.55,  99.  ,  99.45,\n",
       "         99.9 , 100.35, 100.8 ]),\n",
       " <a list of 10 Patch objects>)"
      ]
     },
     "execution_count": 4,
     "metadata": {},
     "output_type": "execute_result"
    },
    {
     "data": {
      "image/png": "[encoded data removed]",
      "text/plain": [
       "<Figure size 432x288 with 1 Axes>"
      ]
     },
     "metadata": {
      "needs_background": "light"
     },
     "output_type": "display_data"
    }
   ],
   "source": [
    "pyplot.hist(df.temperature)"
   ]
  },
  {
   "cell_type": "code",
   "execution_count": 5,
   "metadata": {},
   "outputs": [
    {
     "name": "stdout",
     "output_type": "stream",
     "text": [
      "Statistics=0.987, p=0.233\n"
     ]
    }
   ],
   "source": [
    "stat, p = shapiro(df.temperature)\n",
    "print('Statistics=%.3f, p=%.3f' % (stat, p))"
   ]
  },
  {
   "cell_type": "code",
   "execution_count": 6,
   "metadata": {},
   "outputs": [
    {
     "name": "stdout",
     "output_type": "stream",
     "text": [
      "Sample looks Gaussian \n"
     ]
    }
   ],
   "source": [
    "alpha = 0.05\n",
    "if p > alpha:\n",
    "    print('Sample looks Gaussian ')\n",
    "else:\n",
    "    print('Sample does not look Gaussian')"
   ]
  },
  {
   "cell_type": "markdown",
   "metadata": {},
   "source": [
    "It looks like the tempratures are normally distributed"
   ]
  },
  {
   "cell_type": "markdown",
   "metadata": {},
   "source": [
    "<b> 2. - Is the sample size large? Are the observations independent? </b>"
   ]
  },
  {
   "cell_type": "code",
   "execution_count": 7,
   "metadata": {},
   "outputs": [
    {
     "data": {
      "text/plain": [
       "130"
      ]
     },
     "execution_count": 7,
     "metadata": {},
     "output_type": "execute_result"
    }
   ],
   "source": [
    "len(df.temperature)"
   ]
  },
  {
   "cell_type": "markdown",
   "metadata": {},
   "source": [
    "There are a 130 observations. This is a large enough observation. Additionally, it seems the samples have been taken from different people. Hence, the observations are independent."
   ]
  },
  {
   "cell_type": "markdown",
   "metadata": {},
   "source": [
    "    \n",
    "<b>3. - Is the true population mean really 98.6 degrees F?\n",
    "      - First, try a bootstrap hypothesis test.\n",
    "      - Now, let's try frequentist statistical testing. Would you use a one-sample or two-sample test? Why?\n",
    "      - In this situation, is it appropriate to use the  𝑡  or  𝑧  statistic?\n",
    "      - Now try using the other test. How is the result be different? Why?</b>\n",
    "    "
   ]
  },
  {
   "cell_type": "code",
   "execution_count": 8,
   "metadata": {},
   "outputs": [
    {
     "name": "stdout",
     "output_type": "stream",
     "text": [
      "Mean of temperatures: 98.24923076923075\n"
     ]
    },
    {
     "data": {
      "image/png": "[encoded data removed]",
      "text/plain": [
       "<Figure size 432x288 with 1 Axes>"
      ]
     },
     "metadata": {
      "needs_background": "light"
     },
     "output_type": "display_data"
    },
    {
     "name": "stdout",
     "output_type": "stream",
     "text": [
      "Bootstrap replicates (mean) for temperature: 98.24865715384615\n",
      "Second Bootstrap replicates (mean) for temperature: 98.24855853846155\n",
      "We get different means for different random samples.\n"
     ]
    }
   ],
   "source": [
    "#function -  ecdf: helper method to chart ECDF graphs\n",
    "def ecdf(data):\n",
    "    # Number of data points: n\n",
    "    n = len(data)\n",
    "\n",
    "    # x-data for the ECDF: x\n",
    "    x = np.sort(data)\n",
    "\n",
    "    # y-data for the ECDF: y\n",
    "    y = np.arange(1, n+1) / n\n",
    "\n",
    "    return x, y\n",
    "#function : bootstrap\n",
    "def bootstrp_replicate(data,func):\n",
    "    bs_sample = np.random.choice(data,len(data))\n",
    "    return func(bs_sample)\n",
    "\n",
    "print('Mean of temperatures:',df.temperature.mean())\n",
    "bs_mean = []\n",
    "for _ in range(50):\n",
    "    # Generate bootstrap sample: bs_sample\n",
    "    bs_sample = np.random.choice(df.temperature, size=len(df.temperature))\n",
    "    #print(np.mean(bs_sample))\n",
    "    x, y = ecdf(bs_sample)\n",
    "    _ = plt.plot(x, y, marker='.', linestyle='none',\n",
    "                 color='gray', alpha=0.1)\n",
    "\n",
    "x, y = ecdf(df.temperature)\n",
    "_ = plt.plot(x, y, marker='.')\n",
    "\n",
    "plt.margins(0.02)\n",
    "_ = plt.xlabel('temperature')\n",
    "_ = plt.ylabel('ECDF')\n",
    "_=plt.title('ECDF for temperature means vs actual observations')    \n",
    "plt.show()\n",
    "\n",
    "\n",
    "bs_replicates = np.empty(10000)\n",
    "for i in range(10000):\n",
    "    bs_replicates[i] = bootstrp_replicate(df.temperature, np.mean)\n",
    "\n",
    "print(\"Bootstrap replicates (mean) for temperature:\",bs_replicates.mean())\n",
    "\n",
    "bs_replicates_2 = np.empty(10000)\n",
    "for i in range(10000):\n",
    "    bs_replicates_2[i] = bootstrp_replicate(df.temperature, np.mean)\n",
    "    \n",
    "print(\"Second Bootstrap replicates (mean) for temperature:\",bs_replicates_2.mean())\n",
    "print('We get different means for different random samples.')\n"
   ]
  },
  {
   "cell_type": "markdown",
   "metadata": {},
   "source": [
    "The mean is not really 98.6"
   ]
  },
  {
   "cell_type": "markdown",
   "metadata": {},
   "source": [
    "Now to identify if the means from different random samples are very different from each other or not."
   ]
  },
  {
   "cell_type": "code",
   "execution_count": 11,
   "metadata": {},
   "outputs": [
    {
     "data": {
      "image/png": "[encoded data removed]",
      "text/plain": [
       "<Figure size 432x288 with 1 Axes>"
      ]
     },
     "metadata": {
      "needs_background": "light"
     },
     "output_type": "display_data"
    },
    {
     "name": "stdout",
     "output_type": "stream",
     "text": [
      "Visually, the two histograms are not very different from each other.\n"
     ]
    },
    {
     "data": {
      "image/png": "[encoded data removed]",
      "text/plain": [
       "<Figure size 432x288 with 1 Axes>"
      ]
     },
     "metadata": {
      "needs_background": "light"
     },
     "output_type": "display_data"
    }
   ],
   "source": [
    "_ = plt.hist(bs_replicates, bins = 30, normed = True)\n",
    "_ = plt.xlabel('mean temp')\n",
    "plt.show()\n",
    "\n",
    "print('Visually, the two histograms are not very different from each other.')\n",
    "\n",
    "_ = plt.hist(bs_replicates_2, bins = 30, normed = True)\n",
    "_ = plt.xlabel('mean temp')\n",
    "plt.show()"
   ]
  },
  {
   "cell_type": "markdown",
   "metadata": {},
   "source": [
    "The mean is not really 98.6. The mean is actually close to 98.24.\n",
    "The t-test is a small number so the difference is not significant.\n",
    "\n",
    "It is appropriate to use the Z-statistic becuse the sample size is greater than 30. If the calculated p_value is <0.05, the null hypothesis will be rejected. \n",
    "\n",
    "The null hypothesis here is that the population mean is 98.6."
   ]
  },
  {
   "cell_type": "code",
   "execution_count": 14,
   "metadata": {},
   "outputs": [
    {
     "name": "stdout",
     "output_type": "stream",
     "text": [
      "p-value= 0.0\n"
     ]
    }
   ],
   "source": [
    "# Replicates which are equal to 98.6\n",
    "p = np.sum(bs_replicates == 98.6) / 10000\n",
    "print('p-value=', p)\n"
   ]
  },
  {
   "cell_type": "markdown",
   "metadata": {},
   "source": [
    "Since the p-value is 0.0, we can reject the null hypothesis that the population mean is 98.6."
   ]
  },
  {
   "cell_type": "markdown",
   "metadata": {},
   "source": [
    "#### One sample t-test"
   ]
  },
  {
   "cell_type": "code",
   "execution_count": 18,
   "metadata": {},
   "outputs": [
    {
     "name": "stdout",
     "output_type": "stream",
     "text": [
      "t-value: -5.4548232923645195\n",
      "p-value: 2.4106320415561276e-07\n"
     ]
    }
   ],
   "source": [
    "t, p = ttest_1samp(df['temperature'], popmean=98.6)\n",
    "print('t-value:',t)\n",
    "print('p-value:',p)"
   ]
  },
  {
   "cell_type": "markdown",
   "metadata": {},
   "source": [
    "The p-value is small enough to reject the null hypothesis."
   ]
  },
  {
   "cell_type": "markdown",
   "metadata": {},
   "source": [
    "#### One sample z-test"
   ]
  },
  {
   "cell_type": "code",
   "execution_count": 20,
   "metadata": {},
   "outputs": [
    {
     "name": "stdout",
     "output_type": "stream",
     "text": [
      "p-value: 4.9021570141012155e-08\n"
     ]
    }
   ],
   "source": [
    "tz, pz = ztest(x1=df['temperature'], value=98.6)\n",
    "print('p-value:',pz)"
   ]
  },
  {
   "cell_type": "markdown",
   "metadata": {},
   "source": [
    "The p-value is small enough to reject the null hypothesis."
   ]
  },
  {
   "cell_type": "markdown",
   "metadata": {},
   "source": [
    "  <b>4. -  Draw a small sample of size 10 from the data and repeat both frequentist tests.\n",
    "     - Which one is the correct one to use?\n",
    "     - What do you notice? What does this tell you about the difference in application of the  𝑡  and  𝑧  statistic?\n",
    "  </b>"
   ]
  },
  {
   "cell_type": "code",
   "execution_count": 35,
   "metadata": {},
   "outputs": [
    {
     "name": "stdout",
     "output_type": "stream",
     "text": [
      "p-value for t-test sample size 10:  0.2992803010941588\n",
      "p-value for z-test sample size 10:  0.27069660247003524\n",
      "---------------------------------------------\n",
      "p-value for t-test sample size 10:  0.9999999999999075\n",
      "p-value for z-test sample size 10:  0.999999999999905\n",
      "---------------------------------------------\n",
      "p-value for t-test sample size 10:  0.14144752532740956\n",
      "p-value for z-test sample size 10:  0.10698837307949317\n",
      "---------------------------------------------\n",
      "p-value for t-test sample size 10:  0.03893150105008489\n",
      "p-value for z-test sample size 10:  0.01573722226631349\n",
      "---------------------------------------------\n",
      "p-value for t-test sample size 10:  0.8995099605151111\n",
      "p-value for z-test sample size 10:  0.8966532337560169\n",
      "---------------------------------------------\n",
      "p-value for t-test sample size 10:  0.02239724923949273\n",
      "p-value for z-test sample size 10:  0.005920218125322062\n",
      "---------------------------------------------\n",
      "p-value for t-test sample size 10:  0.09565838959999741\n",
      "p-value for z-test sample size 10:  0.0627418563539437\n",
      "---------------------------------------------\n",
      "p-value for t-test sample size 10:  0.16948232631208046\n",
      "p-value for z-test sample size 10:  0.13527731976051555\n",
      "---------------------------------------------\n",
      "p-value for t-test sample size 10:  0.6320678145628424\n",
      "p-value for z-test sample size 10:  0.6201927182425548\n",
      "---------------------------------------------\n",
      "p-value for t-test sample size 10:  0.32979567901450624\n",
      "p-value for z-test sample size 10:  0.3029058381860039\n",
      "---------------------------------------------\n",
      "p-value for t-test sample size 10:  0.07624809009763459\n",
      "p-value for z-test sample size 10:  0.04523380703148196\n",
      "---------------------------------------------\n"
     ]
    }
   ],
   "source": [
    "# Draw a small sample of size 10 from the data\n",
    "tenSamples = np.random.choice(df['temperature'], size=10)\n",
    "ttest_t, ttest_p = ttest_1samp(tenSamples, popmean=98.6)\n",
    "ztest_t, ztest_p = ztest(tenSamples, value=98.6)\n",
    "print('p-value for t-test sample size 10: ', ttest_p)\n",
    "print('p-value for z-test sample size 10: ', ztest_p)\n",
    "print('---------------------------------------------')\n",
    "\n",
    "#repeating test multiple times\n",
    "for i in range(10):\n",
    "    tenSamples = np.random.choice(df['temperature'], size=10)\n",
    "    ttest_t, ttest_p = ttest_1samp(tenSamples, popmean=98.6)\n",
    "    ztest_t, ztest_p = ztest(tenSamples, value=98.6)\n",
    "    print('p-value for t-test sample size 10: ', ttest_p)\n",
    "    print('p-value for z-test sample size 10: ', ztest_p)\n",
    "    print('---------------------------------------------')"
   ]
  },
  {
   "cell_type": "markdown",
   "metadata": {},
   "source": [
    "Since the sample size is less than 30, the p-value obtained from the t-test should be considered. Repeated tests show that the p-value obtained by the z-test for such a sample size is less than that of the t-test.\n",
    "\n",
    "For the larger sample size, using the z-test makes more sense as it produces a lower p-value."
   ]
  },
  {
   "cell_type": "markdown",
   "metadata": {},
   "source": [
    "<b>5. - At what temperature should we consider someone's temperature to be \"abnormal\"?\n",
    "       - As in the previous example, try calculating everything using the boostrap approach, as well as the frequentist approach.\n",
    "       - Start by computing the margin of error and confidence interval. When calculating the confidence interval, keep in mind that    you should use the </b>"
   ]
  },
  {
   "cell_type": "code",
   "execution_count": 38,
   "metadata": {},
   "outputs": [
    {
     "name": "stdout",
     "output_type": "stream",
     "text": [
      "confidence interval 2.5% to 97.5%: [98.12307692 98.37538462]\n",
      "margin of error 0.12497185081830203\n"
     ]
    }
   ],
   "source": [
    "#Abnormal temperatures\n",
    "conf_int = np.percentile(bs_replicates, [2.5,97.5])\n",
    "print('confidence interval 2.5% to 97.5%:',conf_int)\n",
    "print('Margin of Error',1.96*bs_replicates.std())"
   ]
  },
  {
   "cell_type": "markdown",
   "metadata": {},
   "source": [
    "Temperatures above 98.4 and below 98.1 will be considered abnormal, with a margin of error of 0.1 degrees"
   ]
  },
  {
   "cell_type": "code",
   "execution_count": 42,
   "metadata": {},
   "outputs": [
    {
     "name": "stdout",
     "output_type": "stream",
     "text": [
      "confidence interval 2.5% to 97.5%: 98.37526742623301  to  98.12319411222849\n",
      "Margin of Error 0.1260366570022664\n"
     ]
    }
   ],
   "source": [
    "# Compute the 95% Confidence Interval, Frequentist Approach\n",
    "std = df['temperature'].std() / np.sqrt(len(df['temperature']))\n",
    "\n",
    "# Compute Margin of Error, Frequentist Approach\n",
    "margin_of_error = 1.96 * std # Assuming 95% Confidence\n",
    "conf_interval_up =  np.mean(df['temperature']) + margin_of_error\n",
    "conf_interval_down = np.mean(df['temperature']) - margin_of_error\n",
    "print('confidence interval 2.5% to 97.5%:',conf_interval_up, ' to ', conf_interval_down)\n",
    "print('Margin of Error',margin_of_error)"
   ]
  },
  {
   "cell_type": "markdown",
   "metadata": {},
   "source": [
    "Temperatures above 98.4 and below 98.1 will be considered abnormal, with a margin of error of 0.1 degrees"
   ]
  },
  {
   "cell_type": "markdown",
   "metadata": {},
   "source": [
    "<b>6. - Is there a significant difference between males and females in normal temperature?\n",
    "   - What testing approach did you use and why?\n",
    "   - Write a story with your conclusion in the context of the original problem.\n"
   ]
  },
  {
   "cell_type": "code",
   "execution_count": 45,
   "metadata": {},
   "outputs": [
    {
     "name": "stdout",
     "output_type": "stream",
     "text": [
      "65\n"
     ]
    },
    {
     "name": "stderr",
     "output_type": "stream",
     "text": [
      "c:\\users\\asus\\appdata\\local\\programs\\python\\python37\\lib\\site-packages\\matplotlib\\axes\\_axes.py:6510: MatplotlibDeprecationWarning: \n",
      "The 'normed' kwarg was deprecated in Matplotlib 2.1 and will be removed in 3.1. Use 'density' instead.\n",
      "  alternative=\"'density'\", removal=\"3.1\")\n"
     ]
    },
    {
     "data": {
      "image/png": "[encoded data removed]",
      "text/plain": [
       "<Figure size 432x288 with 1 Axes>"
      ]
     },
     "metadata": {
      "needs_background": "light"
     },
     "output_type": "display_data"
    },
    {
     "name": "stdout",
     "output_type": "stream",
     "text": [
      "65\n"
     ]
    },
    {
     "name": "stderr",
     "output_type": "stream",
     "text": [
      "c:\\users\\asus\\appdata\\local\\programs\\python\\python37\\lib\\site-packages\\matplotlib\\axes\\_axes.py:6510: MatplotlibDeprecationWarning: \n",
      "The 'normed' kwarg was deprecated in Matplotlib 2.1 and will be removed in 3.1. Use 'density' instead.\n",
      "  alternative=\"'density'\", removal=\"3.1\")\n"
     ]
    },
    {
     "data": {
      "image/png": "[encoded data removed]",
      "text/plain": [
       "<Figure size 432x288 with 1 Axes>"
      ]
     },
     "metadata": {
      "needs_background": "light"
     },
     "output_type": "display_data"
    },
    {
     "name": "stderr",
     "output_type": "stream",
     "text": [
      "c:\\users\\asus\\appdata\\local\\programs\\python\\python37\\lib\\site-packages\\matplotlib\\axes\\_axes.py:6510: MatplotlibDeprecationWarning: \n",
      "The 'normed' kwarg was deprecated in Matplotlib 2.1 and will be removed in 3.1. Use 'density' instead.\n",
      "  alternative=\"'density'\", removal=\"3.1\")\n"
     ]
    },
    {
     "data": {
      "image/png": "[encoded data removed]",
      "text/plain": [
       "<Figure size 432x288 with 1 Axes>"
      ]
     },
     "metadata": {
      "needs_background": "light"
     },
     "output_type": "display_data"
    },
    {
     "name": "stderr",
     "output_type": "stream",
     "text": [
      "c:\\users\\asus\\appdata\\local\\programs\\python\\python37\\lib\\site-packages\\matplotlib\\axes\\_axes.py:6510: MatplotlibDeprecationWarning: \n",
      "The 'normed' kwarg was deprecated in Matplotlib 2.1 and will be removed in 3.1. Use 'density' instead.\n",
      "  alternative=\"'density'\", removal=\"3.1\")\n"
     ]
    },
    {
     "data": {
      "image/png": "[encoded data removed]",
      "text/plain": [
       "<Figure size 432x288 with 1 Axes>"
      ]
     },
     "metadata": {
      "needs_background": "light"
     },
     "output_type": "display_data"
    }
   ],
   "source": [
    "#extracting male and female body temperatures\n",
    "male_temp = df[df['gender']== 'M']['temperature']\n",
    "print(len(male_temp))\n",
    "\n",
    "_ = plt.hist(male_temp, bins = 30, normed = True)\n",
    "_ = plt.xlabel('temp')\n",
    "_ = plt.title('histogram of male temp')\n",
    "plt.show()\n",
    "\n",
    "bs_replicates_M= np.empty(10000)\n",
    "for i in range(10000):\n",
    "    bs_replicates_M[i] = bootstrp_replicate(male_temp, np.mean)\n",
    "\n",
    "female_temp = df[df['gender']== 'F']['temperature']\n",
    "print(len(female_temp))\n",
    "\n",
    "_ = plt.hist(female_temp, bins = 30, normed = True)\n",
    "_ = plt.xlabel('temp')\n",
    "_ = plt.title('histogram of female temp')\n",
    "plt.show()\n",
    "\n",
    "bs_replicates_F= np.empty(10000)\n",
    "for i in range(10000):\n",
    "    bs_replicates_F[i] = bootstrp_replicate(female_temp, np.mean)\n",
    "    \n",
    "#histogram of male temp replicates\n",
    "_ = plt.hist(bs_replicates_M, bins = 30, normed = True)\n",
    "_ = plt.xlabel('mean temp')\n",
    "_ = plt.title('histogram of male temp replicates')\n",
    "plt.show()\n",
    "\n",
    "#histogram of female temp replicates\n",
    "_ = plt.hist(bs_replicates_F, bins = 30, normed = True)\n",
    "_ = plt.xlabel('mean temp')\n",
    "_ = plt.title('histogram of female temp replicates')\n",
    "plt.show()\n"
   ]
  },
  {
   "cell_type": "markdown",
   "metadata": {},
   "source": [
    "As we can notice from the histograms, there is a difference in the distribution of temperatures between males and females.\n",
    "We explore it further below."
   ]
  },
  {
   "cell_type": "code",
   "execution_count": 49,
   "metadata": {},
   "outputs": [
    {
     "name": "stdout",
     "output_type": "stream",
     "text": [
      "t score =  -230.96331373831632\n",
      "p-score =  0.0\n",
      "t score =  -2.2854345381656103\n",
      "p-score =  0.02393188312239561\n"
     ]
    }
   ],
   "source": [
    "#two sample ttest\n",
    "t4, p4 = stats.ttest_ind(bs_replicates_M,bs_replicates_F)\n",
    "print('t score = ', t4)\n",
    "print('p-score = ', p4)\n",
    "\n"
   ]
  },
  {
   "cell_type": "markdown",
   "metadata": {},
   "source": [
    "The p-score is 0.0 for the replicates which is sufficient to conclude that the male and female temperature means are not the same."
   ]
  },
  {
   "cell_type": "code",
   "execution_count": 46,
   "metadata": {},
   "outputs": [
    {
     "name": "stdout",
     "output_type": "stream",
     "text": [
      "t score =  -2.2854345381656103\n",
      "p-score =  0.02393188312239561\n"
     ]
    }
   ],
   "source": [
    "#two sample ttest on temperatures\n",
    "t5, p5 = stats.ttest_ind(male_temp,female_temp)\n",
    "\n",
    "print('t score = ', t5)\n",
    "print('p-score = ', p5)"
   ]
  },
  {
   "cell_type": "markdown",
   "metadata": {},
   "source": [
    "The p-score is 0.02 (<0.05) for the actual values which is sufficient to conclude that the male and female temperature means are not the same."
   ]
  },
  {
   "cell_type": "markdown",
   "metadata": {},
   "source": [
    "It appears that the data used initially may have been skewed towards one gender which may have resulted in the mean to come out as 98.6 where as it clearly shows here with this data set that the mean is different.\n",
    "\n",
    "We are also ignoring other considerations like climate, precision of the equipment used, general health of the person, number of readings taken to come to one value etc. These factors may effect the mean calculations as well."
   ]
  },
  {
   "cell_type": "code",
   "execution_count": null,
   "metadata": {},
   "outputs": [],
   "source": []
  }
 ],
 "metadata": {
  "kernelspec": {
   "display_name": "Python 3",
   "language": "python",
   "name": "python3"
  },
  "language_info": {
   "codemirror_mode": {
    "name": "ipython",
    "version": 3
   },
   "file_extension": ".py",
   "mimetype": "text/x-python",
   "name": "python",
   "nbconvert_exporter": "python",
   "pygments_lexer": "ipython3",
   "version": "3.7.0"
  }
 },
 "nbformat": 4,
 "nbformat_minor": 1
}
